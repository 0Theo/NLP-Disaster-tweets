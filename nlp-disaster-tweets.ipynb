{
 "cells": [
  {
   "cell_type": "code",
   "execution_count": 1,
   "id": "eb0beb78",
   "metadata": {
    "_cell_guid": "b1076dfc-b9ad-4769-8c92-a6c4dae69d19",
    "_uuid": "8f2839f25d086af736a60e9eeb907d3b93b6e0e5",
    "execution": {
     "iopub.execute_input": "2022-08-04T15:50:19.019802Z",
     "iopub.status.busy": "2022-08-04T15:50:19.019321Z",
     "iopub.status.idle": "2022-08-04T15:50:21.303339Z",
     "shell.execute_reply": "2022-08-04T15:50:21.302327Z"
    },
    "papermill": {
     "duration": 2.292211,
     "end_time": "2022-08-04T15:50:21.305903",
     "exception": false,
     "start_time": "2022-08-04T15:50:19.013692",
     "status": "completed"
    },
    "tags": []
   },
   "outputs": [
    {
     "data": {
      "text/html": [
       "<style type='text/css'>\n",
       ".datatable table.frame { margin-bottom: 0; }\n",
       ".datatable table.frame thead { border-bottom: none; }\n",
       ".datatable table.frame tr.coltypes td {  color: #FFFFFF;  line-height: 6px;  padding: 0 0.5em;}\n",
       ".datatable .bool    { background: #DDDD99; }\n",
       ".datatable .object  { background: #565656; }\n",
       ".datatable .int     { background: #5D9E5D; }\n",
       ".datatable .float   { background: #4040CC; }\n",
       ".datatable .str     { background: #CC4040; }\n",
       ".datatable .time    { background: #40CC40; }\n",
       ".datatable .row_index {  background: var(--jp-border-color3);  border-right: 1px solid var(--jp-border-color0);  color: var(--jp-ui-font-color3);  font-size: 9px;}\n",
       ".datatable .frame tbody td { text-align: left; }\n",
       ".datatable .frame tr.coltypes .row_index {  background: var(--jp-border-color0);}\n",
       ".datatable th:nth-child(2) { padding-left: 12px; }\n",
       ".datatable .hellipsis {  color: var(--jp-cell-editor-border-color);}\n",
       ".datatable .vellipsis {  background: var(--jp-layout-color0);  color: var(--jp-cell-editor-border-color);}\n",
       ".datatable .na {  color: var(--jp-cell-editor-border-color);  font-size: 80%;}\n",
       ".datatable .sp {  opacity: 0.25;}\n",
       ".datatable .footer { font-size: 9px; }\n",
       ".datatable .frame_dimensions {  background: var(--jp-border-color3);  border-top: 1px solid var(--jp-border-color0);  color: var(--jp-ui-font-color3);  display: inline-block;  opacity: 0.6;  padding: 1px 10px 1px 5px;}\n",
       "</style>\n"
      ],
      "text/plain": [
       "<IPython.core.display.HTML object>"
      ]
     },
     "metadata": {},
     "output_type": "display_data"
    }
   ],
   "source": [
    "import pandas as pd\n",
    "from sklearn.feature_extraction.text import CountVectorizer\n",
    "from sklearn import svm\n",
    "from sklearn.model_selection import GridSearchCV\n",
    "from sklearn.model_selection import train_test_split\n",
    "from nltk.corpus import stopwords\n",
    "from nltk.tokenize import word_tokenize\n",
    "import re\n",
    "from sklearn import metrics\n",
    "import lightgbm as lgbm\n",
    "import numpy as np"
   ]
  },
  {
   "cell_type": "code",
   "execution_count": 2,
   "id": "92296f73",
   "metadata": {
    "execution": {
     "iopub.execute_input": "2022-08-04T15:50:21.313639Z",
     "iopub.status.busy": "2022-08-04T15:50:21.313101Z",
     "iopub.status.idle": "2022-08-04T15:50:21.380332Z",
     "shell.execute_reply": "2022-08-04T15:50:21.379454Z"
    },
    "papermill": {
     "duration": 0.073588,
     "end_time": "2022-08-04T15:50:21.382735",
     "exception": false,
     "start_time": "2022-08-04T15:50:21.309147",
     "status": "completed"
    },
    "tags": []
   },
   "outputs": [],
   "source": [
    "train = pd.read_csv(\"../input/nlp-getting-started/train.csv\")\n",
    "test = pd.read_csv(\"../input/nlp-getting-started/test.csv\")"
   ]
  },
  {
   "cell_type": "code",
   "execution_count": 3,
   "id": "313559e2",
   "metadata": {
    "execution": {
     "iopub.execute_input": "2022-08-04T15:50:21.390414Z",
     "iopub.status.busy": "2022-08-04T15:50:21.389863Z",
     "iopub.status.idle": "2022-08-04T15:50:21.401052Z",
     "shell.execute_reply": "2022-08-04T15:50:21.400184Z"
    },
    "papermill": {
     "duration": 0.017409,
     "end_time": "2022-08-04T15:50:21.403165",
     "exception": false,
     "start_time": "2022-08-04T15:50:21.385756",
     "status": "completed"
    },
    "tags": []
   },
   "outputs": [],
   "source": [
    "##Step2: data cleaning\n",
    "pattern = '[^a-z]'\n",
    "stopwords = set(stopwords.words('english'))\n",
    "\n",
    "def clean_data(text):\n",
    "    \n",
    "    # to lowercase\n",
    "    text = text.lower()\n",
    "\n",
    "    #remove URL\n",
    "    text =  re.sub('http[s]?://\\S+', '', text)\n",
    "\n",
    "    # remove non-letters\n",
    "    text = re.sub(pattern, ' ', text)\n",
    "\n",
    "    # remove whitespaces\n",
    "    text = \" \".join(text.split())\n",
    "\n",
    "    #tokenizer\n",
    "    text = word_tokenize(text)\n",
    "\n",
    "    #remove stopwords\n",
    "    output= ' '.join([i for i in text if i not in stopwords])\n",
    "\n",
    "    return output"
   ]
  },
  {
   "cell_type": "code",
   "execution_count": 4,
   "id": "4a0c8f73",
   "metadata": {
    "execution": {
     "iopub.execute_input": "2022-08-04T15:50:21.410414Z",
     "iopub.status.busy": "2022-08-04T15:50:21.409872Z",
     "iopub.status.idle": "2022-08-04T15:50:22.490555Z",
     "shell.execute_reply": "2022-08-04T15:50:22.489353Z"
    },
    "papermill": {
     "duration": 1.087527,
     "end_time": "2022-08-04T15:50:22.493505",
     "exception": false,
     "start_time": "2022-08-04T15:50:21.405978",
     "status": "completed"
    },
    "tags": []
   },
   "outputs": [],
   "source": [
    "##Step3: Split in to Training and Test Data\n",
    "x = train['text']\n",
    "y = train[\"target\"]\n",
    "\n",
    "clean_messages = []\n",
    "for message in x:\n",
    "    clean_messages.append(clean_data(message))\n",
    "    \n",
    "x = pd.DataFrame(clean_messages, columns=['Text'])"
   ]
  },
  {
   "cell_type": "code",
   "execution_count": 5,
   "id": "3a99c202",
   "metadata": {
    "execution": {
     "iopub.execute_input": "2022-08-04T15:50:22.501498Z",
     "iopub.status.busy": "2022-08-04T15:50:22.500828Z",
     "iopub.status.idle": "2022-08-04T15:50:22.571526Z",
     "shell.execute_reply": "2022-08-04T15:50:22.570268Z"
    },
    "papermill": {
     "duration": 0.07767,
     "end_time": "2022-08-04T15:50:22.574175",
     "exception": false,
     "start_time": "2022-08-04T15:50:22.496505",
     "status": "completed"
    },
    "tags": []
   },
   "outputs": [],
   "source": [
    "freq_word = x[\"Text\"].str.split(expand=True).stack().value_counts().loc[lambda x: x<5].reset_index()\n",
    "freq_word.columns = [\"words\", \"frequency\"]\n",
    "\n",
    "def word_freq(text, removeWord):\n",
    "\n",
    "    text = word_tokenize(text)\n",
    "\n",
    "    output_text = \" \".join(i for i in text if i not in removeWord[\"words\"].values)\n",
    "\n",
    "    return output_text"
   ]
  },
  {
   "cell_type": "code",
   "execution_count": 6,
   "id": "d4aad380",
   "metadata": {
    "execution": {
     "iopub.execute_input": "2022-08-04T15:50:22.581884Z",
     "iopub.status.busy": "2022-08-04T15:50:22.581242Z",
     "iopub.status.idle": "2022-08-04T15:50:46.439328Z",
     "shell.execute_reply": "2022-08-04T15:50:46.438099Z"
    },
    "papermill": {
     "duration": 23.865057,
     "end_time": "2022-08-04T15:50:46.442285",
     "exception": false,
     "start_time": "2022-08-04T15:50:22.577228",
     "status": "completed"
    },
    "tags": []
   },
   "outputs": [],
   "source": [
    "clean_tweet = []\n",
    "x = x['Text']\n",
    "\n",
    "for message in x:\n",
    "    clean_tweet.append(word_freq(message, freq_word))\n",
    "X = pd.DataFrame(clean_tweet, columns=['Text'])"
   ]
  },
  {
   "cell_type": "code",
   "execution_count": 7,
   "id": "ad3f1eee",
   "metadata": {
    "execution": {
     "iopub.execute_input": "2022-08-04T15:50:46.449824Z",
     "iopub.status.busy": "2022-08-04T15:50:46.449475Z",
     "iopub.status.idle": "2022-08-04T15:50:51.313208Z",
     "shell.execute_reply": "2022-08-04T15:50:51.311984Z"
    },
    "papermill": {
     "duration": 4.870354,
     "end_time": "2022-08-04T15:50:51.315886",
     "exception": false,
     "start_time": "2022-08-04T15:50:46.445532",
     "status": "completed"
    },
    "tags": []
   },
   "outputs": [],
   "source": [
    "cv = CountVectorizer(dtype=np.float32)\n",
    "features = cv.fit_transform(X['Text'])\n",
    "\n",
    "\n",
    "##Step5: Build a model svm\n",
    "model = svm.SVC(C = 1000, gamma = 0.0001, kernel = 'rbf', random_state = 1) \n",
    "model.fit(features,y)\n",
    "\n",
    "##step7 confusion matrix\n",
    "pred = model.predict(cv.transform(test[\"text\"]))\n",
    "#print(metrics.confusion_matrix(y_test, pred))\n",
    "#print(metrics.classification_report(y_test, pred))\n",
    "\n",
    "output = pd.DataFrame({'ID': test[\"id\"], 'target': pred})\n",
    "output.to_csv('submission.csv', index=False)\n",
    "\n",
    "#rf = lgbm.LGBMClassifier(random_state = 1)\n",
    "#rf.fit(features,y)\n",
    "#result = rf.predict(cv.transform(test[\"text\"]))\n",
    "\n",
    "#output = pd.DataFrame({'ID': test[\"id\"], 'target': result})\n",
    "#output.to_csv('submission1.csv', index=False)"
   ]
  }
 ],
 "metadata": {
  "kernelspec": {
   "display_name": "Python 3",
   "language": "python",
   "name": "python3"
  },
  "language_info": {
   "codemirror_mode": {
    "name": "ipython",
    "version": 3
   },
   "file_extension": ".py",
   "mimetype": "text/x-python",
   "name": "python",
   "nbconvert_exporter": "python",
   "pygments_lexer": "ipython3",
   "version": "3.7.12"
  },
  "papermill": {
   "default_parameters": {},
   "duration": 41.897391,
   "end_time": "2022-08-04T15:50:52.041926",
   "environment_variables": {},
   "exception": null,
   "input_path": "__notebook__.ipynb",
   "output_path": "__notebook__.ipynb",
   "parameters": {},
   "start_time": "2022-08-04T15:50:10.144535",
   "version": "2.3.4"
  }
 },
 "nbformat": 4,
 "nbformat_minor": 5
}
